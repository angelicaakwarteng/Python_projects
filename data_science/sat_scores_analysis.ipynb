{
 "cells": [
  {
   "cell_type": "code",
   "execution_count": 1,
   "id": "1e55e300",
   "metadata": {},
   "outputs": [],
   "source": [
    "# import relevant libraries \n",
    "import pandas as pd\n",
    "import numpy as np\n",
    "import matplotlib.pyplot as plt\n",
    "import seaborn as sns"
   ]
  },
  {
   "cell_type": "code",
   "execution_count": 4,
   "id": "b2f0276c",
   "metadata": {},
   "outputs": [
    {
     "data": {
      "text/html": [
       "<div>\n",
       "<style scoped>\n",
       "    .dataframe tbody tr th:only-of-type {\n",
       "        vertical-align: middle;\n",
       "    }\n",
       "\n",
       "    .dataframe tbody tr th {\n",
       "        vertical-align: top;\n",
       "    }\n",
       "\n",
       "    .dataframe thead th {\n",
       "        text-align: right;\n",
       "    }\n",
       "</style>\n",
       "<table border=\"1\" class=\"dataframe\">\n",
       "  <thead>\n",
       "    <tr style=\"text-align: right;\">\n",
       "      <th></th>\n",
       "      <th>building_code</th>\n",
       "      <th>school_name</th>\n",
       "      <th>test_takers_count</th>\n",
       "      <th>average_reading</th>\n",
       "      <th>average_math</th>\n",
       "      <th>average_writing</th>\n",
       "      <th>borough</th>\n",
       "    </tr>\n",
       "  </thead>\n",
       "  <tbody>\n",
       "    <tr>\n",
       "      <th>0</th>\n",
       "      <td>M292</td>\n",
       "      <td>HENRY STREET SCHOOL FOR INTERNATIONAL STUDIES</td>\n",
       "      <td>29</td>\n",
       "      <td>355</td>\n",
       "      <td>404</td>\n",
       "      <td>363</td>\n",
       "      <td>Manhattan</td>\n",
       "    </tr>\n",
       "    <tr>\n",
       "      <th>1</th>\n",
       "      <td>M448</td>\n",
       "      <td>UNIVERSITY NEIGHBORHOOD HIGH SCHOOL</td>\n",
       "      <td>91</td>\n",
       "      <td>383</td>\n",
       "      <td>423</td>\n",
       "      <td>366</td>\n",
       "      <td>Manhattan</td>\n",
       "    </tr>\n",
       "    <tr>\n",
       "      <th>2</th>\n",
       "      <td>M450</td>\n",
       "      <td>EAST SIDE COMMUNITY SCHOOL</td>\n",
       "      <td>70</td>\n",
       "      <td>377</td>\n",
       "      <td>402</td>\n",
       "      <td>370</td>\n",
       "      <td>Manhattan</td>\n",
       "    </tr>\n",
       "    <tr>\n",
       "      <th>3</th>\n",
       "      <td>M458</td>\n",
       "      <td>FORSYTH SATELLITE ACADEMY</td>\n",
       "      <td>7</td>\n",
       "      <td>414</td>\n",
       "      <td>401</td>\n",
       "      <td>359</td>\n",
       "      <td>Manhattan</td>\n",
       "    </tr>\n",
       "    <tr>\n",
       "      <th>4</th>\n",
       "      <td>M509</td>\n",
       "      <td>MARTA VALLE HIGH SCHOOL</td>\n",
       "      <td>44</td>\n",
       "      <td>390</td>\n",
       "      <td>433</td>\n",
       "      <td>384</td>\n",
       "      <td>Manhattan</td>\n",
       "    </tr>\n",
       "  </tbody>\n",
       "</table>\n",
       "</div>"
      ],
      "text/plain": [
       "  building_code                                    school_name  \\\n",
       "0          M292  HENRY STREET SCHOOL FOR INTERNATIONAL STUDIES   \n",
       "1          M448            UNIVERSITY NEIGHBORHOOD HIGH SCHOOL   \n",
       "2          M450                     EAST SIDE COMMUNITY SCHOOL   \n",
       "3          M458                      FORSYTH SATELLITE ACADEMY   \n",
       "4          M509                        MARTA VALLE HIGH SCHOOL   \n",
       "\n",
       "  test_takers_count average_reading average_math average_writing    borough  \n",
       "0                29             355          404             363  Manhattan  \n",
       "1                91             383          423             366  Manhattan  \n",
       "2                70             377          402             370  Manhattan  \n",
       "3                 7             414          401             359  Manhattan  \n",
       "4                44             390          433             384  Manhattan  "
      ]
     },
     "execution_count": 4,
     "metadata": {},
     "output_type": "execute_result"
    }
   ],
   "source": [
    "# Read in the data\n",
    "schools = pd.read_csv(\"schools.csv\")\n",
    "\n",
    "# remove the first two digits from building code\n",
    "schools['building_code'] = schools['building_code'].str[2:]\n",
    "\n",
    "# Preview the data\n",
    "schools.head()"
   ]
  },
  {
   "cell_type": "code",
   "execution_count": 5,
   "id": "b66b69a6",
   "metadata": {},
   "outputs": [
    {
     "data": {
      "text/plain": [
       "Brooklyn         138\n",
       "Bronx            128\n",
       "Manhattan        121\n",
       "Queens            78\n",
       "Staten Island     13\n",
       "Name: borough, dtype: int64"
      ]
     },
     "execution_count": 5,
     "metadata": {},
     "output_type": "execute_result"
    }
   ],
   "source": [
    "schools['borough'].value_counts()"
   ]
  },
  {
   "cell_type": "code",
   "execution_count": 6,
   "id": "71af5c5e",
   "metadata": {},
   "outputs": [
    {
     "data": {
      "text/plain": [
       "(478, 7)"
      ]
     },
     "execution_count": 6,
     "metadata": {},
     "output_type": "execute_result"
    }
   ],
   "source": [
    "#checking the number of rows and columns in our dataset\n",
    "schools.shape"
   ]
  },
  {
   "cell_type": "code",
   "execution_count": 7,
   "id": "bb7653ae",
   "metadata": {},
   "outputs": [
    {
     "name": "stdout",
     "output_type": "stream",
     "text": [
      "<class 'pandas.core.frame.DataFrame'>\n",
      "RangeIndex: 478 entries, 0 to 477\n",
      "Data columns (total 7 columns):\n",
      " #   Column             Non-Null Count  Dtype \n",
      "---  ------             --------------  ----- \n",
      " 0   building_code      478 non-null    object\n",
      " 1   school_name        478 non-null    object\n",
      " 2   test_takers_count  478 non-null    object\n",
      " 3   average_reading    478 non-null    object\n",
      " 4   average_math       478 non-null    object\n",
      " 5   average_writing    478 non-null    object\n",
      " 6   borough            478 non-null    object\n",
      "dtypes: object(7)\n",
      "memory usage: 26.3+ KB\n"
     ]
    }
   ],
   "source": [
    "#checking additional info\n",
    "schools.info()"
   ]
  },
  {
   "cell_type": "code",
   "execution_count": 8,
   "id": "2b0e8b4e",
   "metadata": {},
   "outputs": [
    {
     "data": {
      "text/plain": [
       "building_code        0\n",
       "school_name          0\n",
       "test_takers_count    0\n",
       "average_reading      0\n",
       "average_math         0\n",
       "average_writing      0\n",
       "borough              0\n",
       "dtype: int64"
      ]
     },
     "execution_count": 8,
     "metadata": {},
     "output_type": "execute_result"
    }
   ],
   "source": [
    "#checking for nulls\n",
    "schools.isnull().sum()"
   ]
  },
  {
   "cell_type": "code",
   "execution_count": 9,
   "id": "675007d0",
   "metadata": {},
   "outputs": [
    {
     "data": {
      "text/plain": [
       "array(['29', '91', '70', '7', '44', '112', '159', '18', '130', '16', '62',\n",
       "       '53', '58', '85', '48', '76', '50', '40', '69', '42', '60', '92',\n",
       "       'null', '79', '263', '54', '94', '104', '114', '66', '103', '127',\n",
       "       '144', '336', '84', '95', '59', '72', '49', '151', '832', '167',\n",
       "       '25', '81', '264', '131', '73', '14', '78', '26', '77', '56', '30',\n",
       "       '33', '121', '9', '335', '36', '83', '154', '191', '270', '61',\n",
       "       '27', '41', '12', '32', '261', '531', '75', '35', '111', '43',\n",
       "       '375', '51', '31', '20', '214', '101', '55', '63', '24', '228',\n",
       "       '65', '34', '64', '28', '47', '52', '67', '39', '415', '6', '68',\n",
       "       '80', '74', '38', '113', '86', '57', '443', '731', '109', '99',\n",
       "       '10', '46', '97', '189', '37', '1277', '90', '105', '8', '13',\n",
       "       '89', '185', '102', '134', '142', '141', '71', '165', '259', '17',\n",
       "       '182', '456', '238', '694', '385', '475', '727', '448', '119',\n",
       "       '824', '518', '236', '11', '155', '320', '241', '138', '396', '45',\n",
       "       '558', '347', '278', '888', '934', '334', '708', '175', '87', '93',\n",
       "       '404', '403', '194', '762', '462', '422', '98', '395', '392',\n",
       "       '174', '148', '143', '135', '137', '107', '391', '271', '807',\n",
       "       '535', '227', '88', '23'], dtype=object)"
      ]
     },
     "execution_count": 9,
     "metadata": {},
     "output_type": "execute_result"
    }
   ],
   "source": [
    "#previewing values\n",
    "schools['school_name'].unique() #cannot detect foreign value\n",
    "schools['test_takers_count'].unique() #string s found\n",
    "schools['test_takers_count'].replace('s', 'null', inplace=True) #replace s values with null\n",
    "schools['test_takers_count'].unique() #confirm replacement"
   ]
  },
  {
   "cell_type": "code",
   "execution_count": 10,
   "id": "d025d5f9",
   "metadata": {},
   "outputs": [
    {
     "data": {
      "text/plain": [
       "array(['355', '383', '377', '414', '390', '332', '522', '417', '624',\n",
       "       '395', '409', '394', '374', '423', '404', '353', '375', '403',\n",
       "       '408', '373', '391', '473', 'null', '319', '465', '492', '509',\n",
       "       '496', '537', '517', '468', '572', '528', '429', '416', '356',\n",
       "       '441', '378', '376', '679', '443', '370', '469', '407', '336',\n",
       "       '389', '412', '368', '405', '498', '527', '350', '345', '458',\n",
       "       '426', '399', '444', '406', '384', '371', '577', '566', '396',\n",
       "       '433', '401', '354', '461', '432', '369', '358', '357', '413',\n",
       "       '360', '605', '362', '380', '365', '363', '400', '430', '339',\n",
       "       '364', '379', '310', '361', '351', '420', '367', '387', '398',\n",
       "       '337', '402', '366', '324', '372', '411', '393', '459', '386',\n",
       "       '382', '315', '314', '438', '304', '300', '392', '343', '419',\n",
       "       '632', '348', '636', '381', '431', '388', '347', '321', '342',\n",
       "       '352', '439', '587', '305', '435', '471', '586', '397', '359',\n",
       "       '287', '338', '457', '418', '385', '476', '425', '313', '410',\n",
       "       '341', '279', '326', '478', '436', '524', '456', '349', '311',\n",
       "       '317', '545', '445', '455', '621', '480', '462', '499', '452',\n",
       "       '513', '612', '504', '323', '487', '472', '424', '437', '466',\n",
       "       '635', '428'], dtype=object)"
      ]
     },
     "execution_count": 10,
     "metadata": {},
     "output_type": "execute_result"
    }
   ],
   "source": [
    "#checking unique values in average reading column\n",
    "schools['average_reading'].unique()\n",
    "schools['average_reading'].replace('s', 'null', inplace=True) #replace s values with null\n",
    "schools['average_reading'].unique() #confirm replacement"
   ]
  },
  {
   "cell_type": "code",
   "execution_count": 11,
   "id": "077917fa",
   "metadata": {},
   "outputs": [
    {
     "data": {
      "text/plain": [
       "array(['404', '423', '402', '401', '433', '557', '574', '418', '604',\n",
       "       '400', '393', '384', '375', '438', '449', '358', '388', '392',\n",
       "       '390', '370', '391', '483', 'null', '512', '493', '465', '490',\n",
       "       '563', '590', '533', '492', '594', '553', '399', '426', '357',\n",
       "       '473', '365', '416', '460', '387', '735', '489', '349', '472',\n",
       "       '440', '425', '378', '395', '371', '581', '436', '508', '337',\n",
       "       '517', '403', '379', '382', '441', '424', '368', '575', '564',\n",
       "       '398', '369', '506', '514', '421', '446', '351', '318', '366',\n",
       "       '353', '360', '474', '361', '654', '376', '380', '422', '456',\n",
       "       '364', '324', '359', '394', '396', '356', '411', '381', '386',\n",
       "       '385', '373', '355', '464', '367', '480', '363', '339', '312',\n",
       "       '419', '315', '455', '412', '406', '333', '408', '350', '420',\n",
       "       '688', '362', '435', '648', '471', '397', '372', '344', '432',\n",
       "       '323', '346', '374', '417', '659', '383', '443', '499', '584',\n",
       "       '410', '377', '335', '415', '341', '342', '462', '481', '413',\n",
       "       '320', '322', '478', '486', '477', '427', '437', '496', '468',\n",
       "       '414', '519', '475', '561', '409', '338', '454', '429', '568',\n",
       "       '447', '498', '463', '451', '651', '458', '545', '539', '523',\n",
       "       '434', '537', '491', '445', '452', '497', '660', '488', '682',\n",
       "       '317', '444'], dtype=object)"
      ]
     },
     "execution_count": 11,
     "metadata": {},
     "output_type": "execute_result"
    }
   ],
   "source": [
    "#checking unique values in average math column\n",
    "schools['average_math'].unique()\n",
    "schools['average_math'].replace('s', 'null', inplace=True) #replace s values with null\n",
    "schools['average_math'].unique() #confirm replacement"
   ]
  },
  {
   "cell_type": "code",
   "execution_count": 12,
   "id": "2691b18c",
   "metadata": {},
   "outputs": [
    {
     "data": {
      "text/plain": [
       "array(['363', '366', '370', '359', '384', '316', '525', '411', '628',\n",
       "       '387', '392', '378', '362', '432', '416', '340', '385', '405',\n",
       "       '390', '394', '479', 'null', '357', '461', '467', '523', '518',\n",
       "       '550', '515', '459', '592', '533', '381', '428', '391', '349',\n",
       "       '458', '368', '388', '360', '682', '442', '351', '475', '393',\n",
       "       '400', '420', '344', '382', '335', '431', '352', '477', '512',\n",
       "       '345', '343', '403', '429', '426', '376', '430', '408', '374',\n",
       "       '358', '577', '402', '361', '373', '455', '395', '448', '333',\n",
       "       '398', '342', '364', '404', '355', '588', '367', '399', '346',\n",
       "       '423', '326', '348', '311', '371', '383', '407', '389', '375',\n",
       "       '350', '413', '365', '356', '377', '415', '457', '297', '339',\n",
       "       '379', '369', '440', '302', '301', '330', '372', '410', '427',\n",
       "       '649', '414', '354', '317', '636', '433', '353', '419', '341',\n",
       "       '298', '312', '418', '587', '570', '396', '380', '300', '425',\n",
       "       '334', '291', '441', '386', '286', '424', '314', '435', '476',\n",
       "       '439', '542', '331', '332', '421', '329', '406', '443', '318',\n",
       "       '481', '638', '489', '464', '401', '496', '454', '502', '596',\n",
       "       '412', '494', '491', '544', '450', '466', '417', '470', '397',\n",
       "       '422'], dtype=object)"
      ]
     },
     "execution_count": 12,
     "metadata": {},
     "output_type": "execute_result"
    }
   ],
   "source": [
    "#checking unique values in average reading column\n",
    "schools['average_writing'].unique()\n",
    "schools['average_writing'].replace('s', 'null', inplace=True) #replace s values with null\n",
    "schools['average_writing'].unique() #confirm replacement"
   ]
  },
  {
   "cell_type": "code",
   "execution_count": 13,
   "id": "0c3c0c9a",
   "metadata": {},
   "outputs": [
    {
     "data": {
      "text/plain": [
       "null    57\n",
       "54      10\n",
       "9        8\n",
       "72       8\n",
       "48       8\n",
       "        ..\n",
       "1277     1\n",
       "263      1\n",
       "189      1\n",
       "97       1\n",
       "23       1\n",
       "Name: test_takers_count, Length: 175, dtype: int64"
      ]
     },
     "execution_count": 13,
     "metadata": {},
     "output_type": "execute_result"
    }
   ],
   "source": [
    "#counting unique values\n",
    "schools['test_takers_count'].value_counts()"
   ]
  },
  {
   "cell_type": "code",
   "execution_count": 14,
   "id": "0df7bf2e",
   "metadata": {},
   "outputs": [
    {
     "data": {
      "text/plain": [
       "null    57\n",
       "398      8\n",
       "384      8\n",
       "367      8\n",
       "370      8\n",
       "        ..\n",
       "324      1\n",
       "465      1\n",
       "492      1\n",
       "337      1\n",
       "428      1\n",
       "Name: average_reading, Length: 164, dtype: int64"
      ]
     },
     "execution_count": 14,
     "metadata": {},
     "output_type": "execute_result"
    }
   ],
   "source": [
    "schools['average_reading'].value_counts()"
   ]
  },
  {
   "cell_type": "code",
   "execution_count": 15,
   "id": "8a319ac0",
   "metadata": {},
   "outputs": [
    {
     "data": {
      "text/plain": [
       "null    57\n",
       "385      9\n",
       "364      8\n",
       "391      8\n",
       "381      8\n",
       "        ..\n",
       "464      1\n",
       "574      1\n",
       "604      1\n",
       "324      1\n",
       "444      1\n",
       "Name: average_math, Length: 173, dtype: int64"
      ]
     },
     "execution_count": 15,
     "metadata": {},
     "output_type": "execute_result"
    }
   ],
   "source": [
    "schools['average_math'].value_counts()"
   ]
  },
  {
   "cell_type": "code",
   "execution_count": 16,
   "id": "f9c351aa",
   "metadata": {},
   "outputs": [
    {
     "data": {
      "text/plain": [
       "null    57\n",
       "368      9\n",
       "370      9\n",
       "394      8\n",
       "359      8\n",
       "        ..\n",
       "418      1\n",
       "570      1\n",
       "523      1\n",
       "461      1\n",
       "422      1\n",
       "Name: average_writing, Length: 163, dtype: int64"
      ]
     },
     "execution_count": 16,
     "metadata": {},
     "output_type": "execute_result"
    }
   ],
   "source": [
    "schools['average_writing'].value_counts()"
   ]
  },
  {
   "cell_type": "code",
   "execution_count": 17,
   "id": "ad5f79e5",
   "metadata": {},
   "outputs": [
    {
     "data": {
      "text/plain": [
       "X478    2\n",
       "M292    1\n",
       "K489    1\n",
       "K635    1\n",
       "K633    1\n",
       "       ..\n",
       "X540    1\n",
       "X537    1\n",
       "X530    1\n",
       "X519    1\n",
       "X490    1\n",
       "Name: building_code, Length: 477, dtype: int64"
      ]
     },
     "execution_count": 17,
     "metadata": {},
     "output_type": "execute_result"
    }
   ],
   "source": [
    "schools['building_code'].value_counts()"
   ]
  },
  {
   "cell_type": "code",
   "execution_count": 21,
   "id": "ff72218d",
   "metadata": {},
   "outputs": [
    {
     "data": {
      "text/html": [
       "<div>\n",
       "<style scoped>\n",
       "    .dataframe tbody tr th:only-of-type {\n",
       "        vertical-align: middle;\n",
       "    }\n",
       "\n",
       "    .dataframe tbody tr th {\n",
       "        vertical-align: top;\n",
       "    }\n",
       "\n",
       "    .dataframe thead th {\n",
       "        text-align: right;\n",
       "    }\n",
       "</style>\n",
       "<table border=\"1\" class=\"dataframe\">\n",
       "  <thead>\n",
       "    <tr style=\"text-align: right;\">\n",
       "      <th></th>\n",
       "      <th>building_code</th>\n",
       "      <th>school_name</th>\n",
       "      <th>test_takers_count</th>\n",
       "      <th>average_reading</th>\n",
       "      <th>average_math</th>\n",
       "      <th>average_writing</th>\n",
       "      <th>borough</th>\n",
       "    </tr>\n",
       "  </thead>\n",
       "  <tbody>\n",
       "    <tr>\n",
       "      <th>0</th>\n",
       "      <td>M292</td>\n",
       "      <td>HENRY STREET SCHOOL FOR INTERNATIONAL STUDIES</td>\n",
       "      <td>29</td>\n",
       "      <td>355</td>\n",
       "      <td>404</td>\n",
       "      <td>363</td>\n",
       "      <td>Manhattan</td>\n",
       "    </tr>\n",
       "    <tr>\n",
       "      <th>1</th>\n",
       "      <td>M448</td>\n",
       "      <td>UNIVERSITY NEIGHBORHOOD HIGH SCHOOL</td>\n",
       "      <td>91</td>\n",
       "      <td>383</td>\n",
       "      <td>423</td>\n",
       "      <td>366</td>\n",
       "      <td>Manhattan</td>\n",
       "    </tr>\n",
       "    <tr>\n",
       "      <th>2</th>\n",
       "      <td>M450</td>\n",
       "      <td>EAST SIDE COMMUNITY SCHOOL</td>\n",
       "      <td>70</td>\n",
       "      <td>377</td>\n",
       "      <td>402</td>\n",
       "      <td>370</td>\n",
       "      <td>Manhattan</td>\n",
       "    </tr>\n",
       "    <tr>\n",
       "      <th>3</th>\n",
       "      <td>M458</td>\n",
       "      <td>FORSYTH SATELLITE ACADEMY</td>\n",
       "      <td>7</td>\n",
       "      <td>414</td>\n",
       "      <td>401</td>\n",
       "      <td>359</td>\n",
       "      <td>Manhattan</td>\n",
       "    </tr>\n",
       "    <tr>\n",
       "      <th>4</th>\n",
       "      <td>M509</td>\n",
       "      <td>MARTA VALLE HIGH SCHOOL</td>\n",
       "      <td>44</td>\n",
       "      <td>390</td>\n",
       "      <td>433</td>\n",
       "      <td>384</td>\n",
       "      <td>Manhattan</td>\n",
       "    </tr>\n",
       "    <tr>\n",
       "      <th>...</th>\n",
       "      <td>...</td>\n",
       "      <td>...</td>\n",
       "      <td>...</td>\n",
       "      <td>...</td>\n",
       "      <td>...</td>\n",
       "      <td>...</td>\n",
       "      <td>...</td>\n",
       "    </tr>\n",
       "    <tr>\n",
       "      <th>466</th>\n",
       "      <td>K556</td>\n",
       "      <td>BUSHWICK LEADERS HIGH SCHOOL FOR ACADEMIC EXCE...</td>\n",
       "      <td>23</td>\n",
       "      <td>347</td>\n",
       "      <td>358</td>\n",
       "      <td>350</td>\n",
       "      <td>Brooklyn</td>\n",
       "    </tr>\n",
       "    <tr>\n",
       "      <th>467</th>\n",
       "      <td>K564</td>\n",
       "      <td>BUSHWICK COMMUNITY HIGH SCHOOL</td>\n",
       "      <td>24</td>\n",
       "      <td>359</td>\n",
       "      <td>317</td>\n",
       "      <td>358</td>\n",
       "      <td>Brooklyn</td>\n",
       "    </tr>\n",
       "    <tr>\n",
       "      <th>471</th>\n",
       "      <td>Q811</td>\n",
       "      <td>P.S. Q811</td>\n",
       "      <td>32</td>\n",
       "      <td>429</td>\n",
       "      <td>444</td>\n",
       "      <td>433</td>\n",
       "      <td>Queens</td>\n",
       "    </tr>\n",
       "    <tr>\n",
       "      <th>476</th>\n",
       "      <td>Q950</td>\n",
       "      <td>GED PLUS s CITYWIDE</td>\n",
       "      <td>8</td>\n",
       "      <td>496</td>\n",
       "      <td>400</td>\n",
       "      <td>426</td>\n",
       "      <td>Queens</td>\n",
       "    </tr>\n",
       "    <tr>\n",
       "      <th>477</th>\n",
       "      <td>X490</td>\n",
       "      <td>PHOENIX ACADEMY</td>\n",
       "      <td>9</td>\n",
       "      <td>367</td>\n",
       "      <td>370</td>\n",
       "      <td>360</td>\n",
       "      <td>Bronx</td>\n",
       "    </tr>\n",
       "  </tbody>\n",
       "</table>\n",
       "<p>421 rows × 7 columns</p>\n",
       "</div>"
      ],
      "text/plain": [
       "    building_code                                        school_name  \\\n",
       "0            M292      HENRY STREET SCHOOL FOR INTERNATIONAL STUDIES   \n",
       "1            M448                UNIVERSITY NEIGHBORHOOD HIGH SCHOOL   \n",
       "2            M450                         EAST SIDE COMMUNITY SCHOOL   \n",
       "3            M458                          FORSYTH SATELLITE ACADEMY   \n",
       "4            M509                            MARTA VALLE HIGH SCHOOL   \n",
       "..            ...                                                ...   \n",
       "466          K556  BUSHWICK LEADERS HIGH SCHOOL FOR ACADEMIC EXCE...   \n",
       "467          K564                     BUSHWICK COMMUNITY HIGH SCHOOL   \n",
       "471          Q811                                          P.S. Q811   \n",
       "476          Q950                                GED PLUS s CITYWIDE   \n",
       "477          X490                                    PHOENIX ACADEMY   \n",
       "\n",
       "    test_takers_count average_reading average_math average_writing    borough  \n",
       "0                  29             355          404             363  Manhattan  \n",
       "1                  91             383          423             366  Manhattan  \n",
       "2                  70             377          402             370  Manhattan  \n",
       "3                   7             414          401             359  Manhattan  \n",
       "4                  44             390          433             384  Manhattan  \n",
       "..                ...             ...          ...             ...        ...  \n",
       "466                23             347          358             350   Brooklyn  \n",
       "467                24             359          317             358   Brooklyn  \n",
       "471                32             429          444             433     Queens  \n",
       "476                 8             496          400             426     Queens  \n",
       "477                 9             367          370             360      Bronx  \n",
       "\n",
       "[421 rows x 7 columns]"
      ]
     },
     "execution_count": 21,
     "metadata": {},
     "output_type": "execute_result"
    }
   ],
   "source": [
    "#dropping all rows containing null values I created\n",
    "schools = schools[~schools.isin(['null']).any(axis=1)]\n",
    "schools"
   ]
  },
  {
   "cell_type": "code",
   "execution_count": 22,
   "id": "4cc88d33",
   "metadata": {},
   "outputs": [
    {
     "data": {
      "text/plain": [
       "54     10\n",
       "48      8\n",
       "9       8\n",
       "72      8\n",
       "29      7\n",
       "       ..\n",
       "97      1\n",
       "109     1\n",
       "731     1\n",
       "443     1\n",
       "23      1\n",
       "Name: test_takers_count, Length: 174, dtype: int64"
      ]
     },
     "execution_count": 22,
     "metadata": {},
     "output_type": "execute_result"
    }
   ],
   "source": [
    "#checking all columns to confirm nulls dropped\n",
    "schools['average_writing'].value_counts()\n",
    "schools['average_reading'].value_counts()\n",
    "schools['average_math'].value_counts()\n",
    "schools['test_takers_count'].value_counts()"
   ]
  },
  {
   "cell_type": "code",
   "execution_count": 24,
   "id": "25c8a6d5",
   "metadata": {},
   "outputs": [
    {
     "data": {
      "text/plain": [
       "(421, 7)"
      ]
     },
     "execution_count": 24,
     "metadata": {},
     "output_type": "execute_result"
    }
   ],
   "source": [
    "#Now working with 421 entries\n",
    "schools.shape"
   ]
  },
  {
   "cell_type": "code",
   "execution_count": 39,
   "id": "cda6ce0f",
   "metadata": {},
   "outputs": [],
   "source": [
    "# changing dtypes\n",
    "schools['school_name'] = schools['school_name'].astype('category')\n",
    "schools['test_takers_count'] = schools['test_takers_count'].astype('int')\n",
    "schools['average_reading'] = schools['average_reading'].astype('float')\n",
    "schools['average_math'] = schools['average_math'].astype('float')\n",
    "schools['average_writing'] = schools['average_writing'].astype('float')"
   ]
  },
  {
   "cell_type": "code",
   "execution_count": 40,
   "id": "2f33e864",
   "metadata": {},
   "outputs": [
    {
     "data": {
      "text/plain": [
       "count                                                   421\n",
       "unique                                                  421\n",
       "top       47 THE AMERICAN SIGN LANGUAGE AND ENGLISH SECO...\n",
       "freq                                                      1\n",
       "Name: school_name, dtype: object"
      ]
     },
     "execution_count": 40,
     "metadata": {},
     "output_type": "execute_result"
    }
   ],
   "source": [
    "#checking the total number of schools in the dataset\n",
    "number_of_schools_desc = schools['school_name'].describe()\n",
    "number_of_schools_desc"
   ]
  },
  {
   "cell_type": "code",
   "execution_count": 54,
   "id": "8b8b2fa2",
   "metadata": {},
   "outputs": [
    {
     "name": "stdout",
     "output_type": "stream",
     "text": [
      "The least score 80% of 800 for math is: 640.0\n"
     ]
    }
   ],
   "source": [
    "#The best math results is at least 80% of 800\n",
    "print(f'The least score 80% of 800 for math is: {0.8 * 800}')"
   ]
  },
  {
   "cell_type": "code",
   "execution_count": 55,
   "id": "aba725ca",
   "metadata": {},
   "outputs": [
    {
     "data": {
      "text/html": [
       "<div>\n",
       "<style scoped>\n",
       "    .dataframe tbody tr th:only-of-type {\n",
       "        vertical-align: middle;\n",
       "    }\n",
       "\n",
       "    .dataframe tbody tr th {\n",
       "        vertical-align: top;\n",
       "    }\n",
       "\n",
       "    .dataframe thead th {\n",
       "        text-align: right;\n",
       "    }\n",
       "</style>\n",
       "<table border=\"1\" class=\"dataframe\">\n",
       "  <thead>\n",
       "    <tr style=\"text-align: right;\">\n",
       "      <th></th>\n",
       "      <th>school_name</th>\n",
       "      <th>average_math</th>\n",
       "    </tr>\n",
       "  </thead>\n",
       "  <tbody>\n",
       "    <tr>\n",
       "      <th>48</th>\n",
       "      <td>STUYVESANT HIGH SCHOOL</td>\n",
       "      <td>735.0</td>\n",
       "    </tr>\n",
       "    <tr>\n",
       "      <th>198</th>\n",
       "      <td>BRONX HIGH SCHOOL OF SCIENCE</td>\n",
       "      <td>688.0</td>\n",
       "    </tr>\n",
       "    <tr>\n",
       "      <th>459</th>\n",
       "      <td>STATEN ISLAND TECHNICAL HIGH SCHOOL</td>\n",
       "      <td>682.0</td>\n",
       "    </tr>\n",
       "    <tr>\n",
       "      <th>427</th>\n",
       "      <td>QUEENS HIGH SCHOOL FOR THE SCIENCES AT YORK CO...</td>\n",
       "      <td>660.0</td>\n",
       "    </tr>\n",
       "    <tr>\n",
       "      <th>249</th>\n",
       "      <td>BROOKLYN TECHNICAL HIGH SCHOOL</td>\n",
       "      <td>659.0</td>\n",
       "    </tr>\n",
       "    <tr>\n",
       "      <th>107</th>\n",
       "      <td>HIGH SCHOOL FOR MATHEMATICS, SCIENCE AND ENGIN...</td>\n",
       "      <td>654.0</td>\n",
       "    </tr>\n",
       "    <tr>\n",
       "      <th>396</th>\n",
       "      <td>TOWNSEND HARRIS HIGH SCHOOL</td>\n",
       "      <td>651.0</td>\n",
       "    </tr>\n",
       "    <tr>\n",
       "      <th>206</th>\n",
       "      <td>HIGH SCHOOL OF AMERICAN STUDIES AT LEHMAN COLLEGE</td>\n",
       "      <td>648.0</td>\n",
       "    </tr>\n",
       "  </tbody>\n",
       "</table>\n",
       "</div>"
      ],
      "text/plain": [
       "                                           school_name  average_math\n",
       "48                              STUYVESANT HIGH SCHOOL         735.0\n",
       "198                       BRONX HIGH SCHOOL OF SCIENCE         688.0\n",
       "459                STATEN ISLAND TECHNICAL HIGH SCHOOL         682.0\n",
       "427  QUEENS HIGH SCHOOL FOR THE SCIENCES AT YORK CO...         660.0\n",
       "249                     BROOKLYN TECHNICAL HIGH SCHOOL         659.0\n",
       "107  HIGH SCHOOL FOR MATHEMATICS, SCIENCE AND ENGIN...         654.0\n",
       "396                        TOWNSEND HARRIS HIGH SCHOOL         651.0\n",
       "206  HIGH SCHOOL OF AMERICAN STUDIES AT LEHMAN COLLEGE         648.0"
      ]
     },
     "execution_count": 55,
     "metadata": {},
     "output_type": "execute_result"
    }
   ],
   "source": [
    "#Finding the best math schools by school_name and average_math in descending order\n",
    "best_math_schools = schools[schools['average_math'] >= 640][['school_name', 'average_math']].sort_values('average_math', ascending = False)\n",
    "best_math_schools"
   ]
  },
  {
   "cell_type": "markdown",
   "id": "a0271fc6",
   "metadata": {},
   "source": [
    "What are the top 10 performing schools based on the combined SAT scores?"
   ]
  },
  {
   "cell_type": "code",
   "execution_count": 56,
   "id": "7ecae7ed",
   "metadata": {},
   "outputs": [],
   "source": [
    "#creating column for combined SAT scores, total_SAT\n",
    "schools['total_SAT'] = schools['average_math'] + schools['average_reading'] + schools['average_writing']"
   ]
  },
  {
   "cell_type": "code",
   "execution_count": 57,
   "id": "29ef0d0d",
   "metadata": {},
   "outputs": [
    {
     "data": {
      "text/html": [
       "<div>\n",
       "<style scoped>\n",
       "    .dataframe tbody tr th:only-of-type {\n",
       "        vertical-align: middle;\n",
       "    }\n",
       "\n",
       "    .dataframe tbody tr th {\n",
       "        vertical-align: top;\n",
       "    }\n",
       "\n",
       "    .dataframe thead th {\n",
       "        text-align: right;\n",
       "    }\n",
       "</style>\n",
       "<table border=\"1\" class=\"dataframe\">\n",
       "  <thead>\n",
       "    <tr style=\"text-align: right;\">\n",
       "      <th></th>\n",
       "      <th>school_name</th>\n",
       "      <th>total_SAT</th>\n",
       "    </tr>\n",
       "  </thead>\n",
       "  <tbody>\n",
       "    <tr>\n",
       "      <th>48</th>\n",
       "      <td>STUYVESANT HIGH SCHOOL</td>\n",
       "      <td>2096.0</td>\n",
       "    </tr>\n",
       "    <tr>\n",
       "      <th>198</th>\n",
       "      <td>BRONX HIGH SCHOOL OF SCIENCE</td>\n",
       "      <td>1969.0</td>\n",
       "    </tr>\n",
       "    <tr>\n",
       "      <th>459</th>\n",
       "      <td>STATEN ISLAND TECHNICAL HIGH SCHOOL</td>\n",
       "      <td>1953.0</td>\n",
       "    </tr>\n",
       "    <tr>\n",
       "      <th>206</th>\n",
       "      <td>HIGH SCHOOL OF AMERICAN STUDIES AT LEHMAN COLLEGE</td>\n",
       "      <td>1920.0</td>\n",
       "    </tr>\n",
       "    <tr>\n",
       "      <th>396</th>\n",
       "      <td>TOWNSEND HARRIS HIGH SCHOOL</td>\n",
       "      <td>1910.0</td>\n",
       "    </tr>\n",
       "    <tr>\n",
       "      <th>427</th>\n",
       "      <td>QUEENS HIGH SCHOOL FOR THE SCIENCES AT YORK CO...</td>\n",
       "      <td>1868.0</td>\n",
       "    </tr>\n",
       "    <tr>\n",
       "      <th>8</th>\n",
       "      <td>BARD HIGH SCHOOL EARLY COLLEGE</td>\n",
       "      <td>1856.0</td>\n",
       "    </tr>\n",
       "    <tr>\n",
       "      <th>107</th>\n",
       "      <td>HIGH SCHOOL FOR MATHEMATICS, SCIENCE AND ENGIN...</td>\n",
       "      <td>1847.0</td>\n",
       "    </tr>\n",
       "    <tr>\n",
       "      <th>249</th>\n",
       "      <td>BROOKLYN TECHNICAL HIGH SCHOOL</td>\n",
       "      <td>1833.0</td>\n",
       "    </tr>\n",
       "    <tr>\n",
       "      <th>33</th>\n",
       "      <td>ELEANOR ROOSEVELT HIGH SCHOOL</td>\n",
       "      <td>1758.0</td>\n",
       "    </tr>\n",
       "  </tbody>\n",
       "</table>\n",
       "</div>"
      ],
      "text/plain": [
       "                                           school_name  total_SAT\n",
       "48                              STUYVESANT HIGH SCHOOL     2096.0\n",
       "198                       BRONX HIGH SCHOOL OF SCIENCE     1969.0\n",
       "459                STATEN ISLAND TECHNICAL HIGH SCHOOL     1953.0\n",
       "206  HIGH SCHOOL OF AMERICAN STUDIES AT LEHMAN COLLEGE     1920.0\n",
       "396                        TOWNSEND HARRIS HIGH SCHOOL     1910.0\n",
       "427  QUEENS HIGH SCHOOL FOR THE SCIENCES AT YORK CO...     1868.0\n",
       "8                       BARD HIGH SCHOOL EARLY COLLEGE     1856.0\n",
       "107  HIGH SCHOOL FOR MATHEMATICS, SCIENCE AND ENGIN...     1847.0\n",
       "249                     BROOKLYN TECHNICAL HIGH SCHOOL     1833.0\n",
       "33                       ELEANOR ROOSEVELT HIGH SCHOOL     1758.0"
      ]
     },
     "execution_count": 57,
     "metadata": {},
     "output_type": "execute_result"
    }
   ],
   "source": [
    "#Finding top 10 schools\n",
    "top_10_schools = schools[['school_name', 'total_SAT']].sort_values('total_SAT', ascending = False).head(10)\n",
    "top_10_schools"
   ]
  },
  {
   "cell_type": "markdown",
   "id": "5e22a0b8",
   "metadata": {},
   "source": [
    "Which single borough has the largest standard deviation in the combined SAT score?"
   ]
  },
  {
   "cell_type": "code",
   "execution_count": 58,
   "id": "cf29d4d9",
   "metadata": {},
   "outputs": [
    {
     "data": {
      "text/plain": [
       "array(['Manhattan', 'Bronx', 'Brooklyn', 'Queens', 'Staten Island'],\n",
       "      dtype=object)"
      ]
     },
     "execution_count": 58,
     "metadata": {},
     "output_type": "execute_result"
    }
   ],
   "source": [
    "schools['borough'].unique()"
   ]
  },
  {
   "cell_type": "code",
   "execution_count": 59,
   "id": "be84a5d0",
   "metadata": {},
   "outputs": [
    {
     "data": {
      "text/html": [
       "<div>\n",
       "<style scoped>\n",
       "    .dataframe tbody tr th:only-of-type {\n",
       "        vertical-align: middle;\n",
       "    }\n",
       "\n",
       "    .dataframe tbody tr th {\n",
       "        vertical-align: top;\n",
       "    }\n",
       "\n",
       "    .dataframe thead th {\n",
       "        text-align: right;\n",
       "    }\n",
       "</style>\n",
       "<table border=\"1\" class=\"dataframe\">\n",
       "  <thead>\n",
       "    <tr style=\"text-align: right;\">\n",
       "      <th></th>\n",
       "      <th>std</th>\n",
       "      <th>mean</th>\n",
       "      <th>count</th>\n",
       "    </tr>\n",
       "    <tr>\n",
       "      <th>borough</th>\n",
       "      <th></th>\n",
       "      <th></th>\n",
       "      <th></th>\n",
       "    </tr>\n",
       "  </thead>\n",
       "  <tbody>\n",
       "    <tr>\n",
       "      <th>Brooklyn</th>\n",
       "      <td>137.03</td>\n",
       "      <td>1167.36</td>\n",
       "      <td>123</td>\n",
       "    </tr>\n",
       "    <tr>\n",
       "      <th>Bronx</th>\n",
       "      <td>137.88</td>\n",
       "      <td>1144.58</td>\n",
       "      <td>110</td>\n",
       "    </tr>\n",
       "    <tr>\n",
       "      <th>Queens</th>\n",
       "      <td>176.02</td>\n",
       "      <td>1275.37</td>\n",
       "      <td>70</td>\n",
       "    </tr>\n",
       "    <tr>\n",
       "      <th>Manhattan</th>\n",
       "      <td>202.44</td>\n",
       "      <td>1260.18</td>\n",
       "      <td>106</td>\n",
       "    </tr>\n",
       "    <tr>\n",
       "      <th>Staten Island</th>\n",
       "      <td>205.54</td>\n",
       "      <td>1359.17</td>\n",
       "      <td>12</td>\n",
       "    </tr>\n",
       "  </tbody>\n",
       "</table>\n",
       "</div>"
      ],
      "text/plain": [
       "                  std     mean  count\n",
       "borough                              \n",
       "Brooklyn       137.03  1167.36    123\n",
       "Bronx          137.88  1144.58    110\n",
       "Queens         176.02  1275.37     70\n",
       "Manhattan      202.44  1260.18    106\n",
       "Staten Island  205.54  1359.17     12"
      ]
     },
     "execution_count": 59,
     "metadata": {},
     "output_type": "execute_result"
    }
   ],
   "source": [
    "#Finding the standard deviation, average and the number of schools in combined SAT score for each borough\n",
    "boroughs = schools.groupby('borough')['total_SAT'].agg(['std','mean','count']).round(2)\n",
    "\n",
    "#sort by std\n",
    "boroughs.sort_values('std')"
   ]
  },
  {
   "cell_type": "code",
   "execution_count": 60,
   "id": "85c68657",
   "metadata": {},
   "outputs": [
    {
     "data": {
      "text/plain": [
       "borough\n",
       "Bronx            110\n",
       "Brooklyn         123\n",
       "Manhattan        106\n",
       "Queens            70\n",
       "Staten Island     12\n",
       "Name: count, dtype: int64"
      ]
     },
     "execution_count": 60,
     "metadata": {},
     "output_type": "execute_result"
    }
   ],
   "source": [
    "#the lower the std, the better\n",
    "numbers_schools = boroughs['count']\n",
    "numbers_schools"
   ]
  },
  {
   "cell_type": "code",
   "execution_count": 61,
   "id": "b5b59a05",
   "metadata": {},
   "outputs": [
    {
     "data": {
      "text/html": [
       "<div>\n",
       "<style scoped>\n",
       "    .dataframe tbody tr th:only-of-type {\n",
       "        vertical-align: middle;\n",
       "    }\n",
       "\n",
       "    .dataframe tbody tr th {\n",
       "        vertical-align: top;\n",
       "    }\n",
       "\n",
       "    .dataframe thead th {\n",
       "        text-align: right;\n",
       "    }\n",
       "</style>\n",
       "<table border=\"1\" class=\"dataframe\">\n",
       "  <thead>\n",
       "    <tr style=\"text-align: right;\">\n",
       "      <th></th>\n",
       "      <th>std_SAT</th>\n",
       "      <th>average_SAT</th>\n",
       "      <th>num_schools</th>\n",
       "    </tr>\n",
       "    <tr>\n",
       "      <th>borough</th>\n",
       "      <th></th>\n",
       "      <th></th>\n",
       "      <th></th>\n",
       "    </tr>\n",
       "  </thead>\n",
       "  <tbody>\n",
       "    <tr>\n",
       "      <th>Staten Island</th>\n",
       "      <td>205.54</td>\n",
       "      <td>1359.17</td>\n",
       "      <td>12</td>\n",
       "    </tr>\n",
       "  </tbody>\n",
       "</table>\n",
       "</div>"
      ],
      "text/plain": [
       "               std_SAT  average_SAT  num_schools\n",
       "borough                                         \n",
       "Staten Island   205.54      1359.17           12"
      ]
     },
     "execution_count": 61,
     "metadata": {},
     "output_type": "execute_result"
    }
   ],
   "source": [
    "#finding the single borough with the largest standard deviation in combined SAT\n",
    "largest_std_dev = boroughs[boroughs['std']== boroughs['std'].max()]\n",
    "largest_std_dev = largest_std_dev.rename(columns={\"count\": \"num_schools\", \"mean\": \"average_SAT\", \"std\": \"std_SAT\"})\n",
    "largest_std_dev"
   ]
  }
 ],
 "metadata": {
  "kernelspec": {
   "display_name": "Python 3 (ipykernel)",
   "language": "python",
   "name": "python3"
  },
  "language_info": {
   "codemirror_mode": {
    "name": "ipython",
    "version": 3
   },
   "file_extension": ".py",
   "mimetype": "text/x-python",
   "name": "python",
   "nbconvert_exporter": "python",
   "pygments_lexer": "ipython3",
   "version": "3.10.9"
  }
 },
 "nbformat": 4,
 "nbformat_minor": 5
}
