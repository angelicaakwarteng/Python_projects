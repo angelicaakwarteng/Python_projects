{
 "cells": [
  {
   "cell_type": "markdown",
   "id": "f63a0648",
   "metadata": {},
   "source": [
    "# Finance: Comparing two investment strategies\n",
    "\n",
    "#### Scenario\n",
    "In finance, investment strategists are continually evaluating different approaches to maximize returns. In this scenario, a financial firm wishes to assess the effectiveness of two investment strategies: \"Quantitative Analysis\" and \"Fundamental Analysis\". The firm has applied each strategy to a separate set of investment portfolios for a year and now asks you to compare the annual returns to determine if there is any difference in strategy returns by comparing the mean returns of the two groups."
   ]
  },
  {
   "cell_type": "code",
   "execution_count": 1,
   "id": "9ec66e75",
   "metadata": {},
   "outputs": [],
   "source": [
    "#importing libraries\n",
    "import numpy as np\n",
    "import pandas as pd\n",
    "import seaborn as sns\n",
    "import matplotlib.pyplot as plt"
   ]
  },
  {
   "cell_type": "code",
   "execution_count": 3,
   "id": "ccf8b59e",
   "metadata": {},
   "outputs": [
    {
     "data": {
      "text/html": [
       "<div>\n",
       "<style scoped>\n",
       "    .dataframe tbody tr th:only-of-type {\n",
       "        vertical-align: middle;\n",
       "    }\n",
       "\n",
       "    .dataframe tbody tr th {\n",
       "        vertical-align: top;\n",
       "    }\n",
       "\n",
       "    .dataframe thead th {\n",
       "        text-align: right;\n",
       "    }\n",
       "</style>\n",
       "<table border=\"1\" class=\"dataframe\">\n",
       "  <thead>\n",
       "    <tr style=\"text-align: right;\">\n",
       "      <th></th>\n",
       "      <th>Strategy_Type</th>\n",
       "      <th>Annual_Return</th>\n",
       "    </tr>\n",
       "  </thead>\n",
       "  <tbody>\n",
       "    <tr>\n",
       "      <th>0</th>\n",
       "      <td>Quantitative</td>\n",
       "      <td>10.597379</td>\n",
       "    </tr>\n",
       "    <tr>\n",
       "      <th>1</th>\n",
       "      <td>Quantitative</td>\n",
       "      <td>1.656248</td>\n",
       "    </tr>\n",
       "    <tr>\n",
       "      <th>2</th>\n",
       "      <td>Quantitative</td>\n",
       "      <td>9.202100</td>\n",
       "    </tr>\n",
       "    <tr>\n",
       "      <th>3</th>\n",
       "      <td>Quantitative</td>\n",
       "      <td>3.980213</td>\n",
       "    </tr>\n",
       "    <tr>\n",
       "      <th>4</th>\n",
       "      <td>Quantitative</td>\n",
       "      <td>8.086720</td>\n",
       "    </tr>\n",
       "    <tr>\n",
       "      <th>...</th>\n",
       "      <td>...</td>\n",
       "      <td>...</td>\n",
       "    </tr>\n",
       "    <tr>\n",
       "      <th>835</th>\n",
       "      <td>Fundamental</td>\n",
       "      <td>2.201122</td>\n",
       "    </tr>\n",
       "    <tr>\n",
       "      <th>836</th>\n",
       "      <td>Fundamental</td>\n",
       "      <td>8.275464</td>\n",
       "    </tr>\n",
       "    <tr>\n",
       "      <th>837</th>\n",
       "      <td>Fundamental</td>\n",
       "      <td>2.923039</td>\n",
       "    </tr>\n",
       "    <tr>\n",
       "      <th>838</th>\n",
       "      <td>Fundamental</td>\n",
       "      <td>-1.420455</td>\n",
       "    </tr>\n",
       "    <tr>\n",
       "      <th>839</th>\n",
       "      <td>Fundamental</td>\n",
       "      <td>15.527392</td>\n",
       "    </tr>\n",
       "  </tbody>\n",
       "</table>\n",
       "<p>840 rows × 2 columns</p>\n",
       "</div>"
      ],
      "text/plain": [
       "    Strategy_Type  Annual_Return\n",
       "0    Quantitative      10.597379\n",
       "1    Quantitative       1.656248\n",
       "2    Quantitative       9.202100\n",
       "3    Quantitative       3.980213\n",
       "4    Quantitative       8.086720\n",
       "..            ...            ...\n",
       "835   Fundamental       2.201122\n",
       "836   Fundamental       8.275464\n",
       "837   Fundamental       2.923039\n",
       "838   Fundamental      -1.420455\n",
       "839   Fundamental      15.527392\n",
       "\n",
       "[840 rows x 2 columns]"
      ]
     },
     "execution_count": 3,
     "metadata": {},
     "output_type": "execute_result"
    }
   ],
   "source": [
    "#load data\n",
    "df = pd.read_csv('investment_returns.csv')\n",
    "df"
   ]
  },
  {
   "cell_type": "code",
   "execution_count": 5,
   "id": "b9fe55e6",
   "metadata": {},
   "outputs": [
    {
     "data": {
      "text/plain": [
       "array(['Quantitative', 'Fundamental'], dtype=object)"
      ]
     },
     "execution_count": 5,
     "metadata": {},
     "output_type": "execute_result"
    }
   ],
   "source": [
    "df['Strategy_Type'].unique()"
   ]
  },
  {
   "cell_type": "code",
   "execution_count": 7,
   "id": "e57b4686",
   "metadata": {},
   "outputs": [
    {
     "name": "stdout",
     "output_type": "stream",
     "text": [
      "<class 'pandas.core.frame.DataFrame'>\n",
      "RangeIndex: 840 entries, 0 to 839\n",
      "Data columns (total 2 columns):\n",
      " #   Column         Non-Null Count  Dtype  \n",
      "---  ------         --------------  -----  \n",
      " 0   Strategy_Type  840 non-null    object \n",
      " 1   Annual_Return  840 non-null    float64\n",
      "dtypes: float64(1), object(1)\n",
      "memory usage: 13.2+ KB\n"
     ]
    }
   ],
   "source": [
    "df.info()"
   ]
  },
  {
   "cell_type": "code",
   "execution_count": 8,
   "id": "f626a6bc",
   "metadata": {},
   "outputs": [
    {
     "name": "stdout",
     "output_type": "stream",
     "text": [
      "P-value: 2.0567003424807143e-14\n"
     ]
    }
   ],
   "source": [
    "from scipy.stats import ttest_ind\n",
    "group1 = df[df['Strategy_Type'] == 'Quantitative']['Annual_Return']\n",
    "group2 = df[df['Strategy_Type'] == 'Fundamental']['Annual_Return']\n",
    "\n",
    "t_stat, p_val = ttest_ind(group1, group2)\n",
    "print(f\"P-value: {p_val}\")"
   ]
  },
  {
   "cell_type": "code",
   "execution_count": 10,
   "id": "3e7c9c4c",
   "metadata": {},
   "outputs": [
    {
     "name": "stdout",
     "output_type": "stream",
     "text": [
      "There is a significant difference in returns between the two strategies\n"
     ]
    }
   ],
   "source": [
    "#assuming we set alpha at 5%\n",
    "alpha = 0.05\n",
    "\n",
    "if p_val <= alpha:\n",
    "    print('There is a significant difference in returns between the two strategies')\n",
    "else:\n",
    "    print('There is no significant difference in returns between the two strategies')"
   ]
  },
  {
   "cell_type": "markdown",
   "id": "3b7442f2",
   "metadata": {},
   "source": [
    "###### Overall\n",
    "The P-value is much smaller than alpha, suggesting a significant difference in returns between the two strategies."
   ]
  }
 ],
 "metadata": {
  "kernelspec": {
   "display_name": "Python 3 (ipykernel)",
   "language": "python",
   "name": "python3"
  },
  "language_info": {
   "codemirror_mode": {
    "name": "ipython",
    "version": 3
   },
   "file_extension": ".py",
   "mimetype": "text/x-python",
   "name": "python",
   "nbconvert_exporter": "python",
   "pygments_lexer": "ipython3",
   "version": "3.10.9"
  }
 },
 "nbformat": 4,
 "nbformat_minor": 5
}
